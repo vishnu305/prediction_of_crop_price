{
 "cells": [
  {
   "cell_type": "code",
   "execution_count": 1,
   "metadata": {},
   "outputs": [],
   "source": [
    "import pandas as pd\n",
    "import numpy as np\n",
    "import matplotlib.pyplot as plt\n",
    "import seaborn as sns\n",
    "%matplotlib inline"
   ]
  },
  {
   "cell_type": "markdown",
   "metadata": {},
   "source": [
    "# Collecting Data"
   ]
  },
  {
   "cell_type": "code",
   "execution_count": 2,
   "metadata": {},
   "outputs": [],
   "source": [
    "data = pd.read_excel('agricultue_data.xlsx')"
   ]
  },
  {
   "cell_type": "code",
   "execution_count": 3,
   "metadata": {},
   "outputs": [
    {
     "data": {
      "text/html": [
       "<div>\n",
       "<style scoped>\n",
       "    .dataframe tbody tr th:only-of-type {\n",
       "        vertical-align: middle;\n",
       "    }\n",
       "\n",
       "    .dataframe tbody tr th {\n",
       "        vertical-align: top;\n",
       "    }\n",
       "\n",
       "    .dataframe thead th {\n",
       "        text-align: right;\n",
       "    }\n",
       "</style>\n",
       "<table border=\"1\" class=\"dataframe\">\n",
       "  <thead>\n",
       "    <tr style=\"text-align: right;\">\n",
       "      <th></th>\n",
       "      <th>Sl no.</th>\n",
       "      <th>District Name</th>\n",
       "      <th>Market Name</th>\n",
       "      <th>Commodity</th>\n",
       "      <th>Variety</th>\n",
       "      <th>Grade</th>\n",
       "      <th>Min Price (Rs./Quintal)</th>\n",
       "      <th>Max Price (Rs./Quintal)</th>\n",
       "      <th>Modal Price (Rs./Quintal)</th>\n",
       "      <th>Price Date</th>\n",
       "    </tr>\n",
       "  </thead>\n",
       "  <tbody>\n",
       "    <tr>\n",
       "      <th>0</th>\n",
       "      <td>1</td>\n",
       "      <td>Agra</td>\n",
       "      <td>Achnera</td>\n",
       "      <td>Potato</td>\n",
       "      <td>Desi</td>\n",
       "      <td>FAQ</td>\n",
       "      <td>900</td>\n",
       "      <td>1000</td>\n",
       "      <td>950</td>\n",
       "      <td>2020-12-30</td>\n",
       "    </tr>\n",
       "    <tr>\n",
       "      <th>1</th>\n",
       "      <td>2</td>\n",
       "      <td>Agra</td>\n",
       "      <td>Achnera</td>\n",
       "      <td>Potato</td>\n",
       "      <td>Desi</td>\n",
       "      <td>FAQ</td>\n",
       "      <td>800</td>\n",
       "      <td>900</td>\n",
       "      <td>850</td>\n",
       "      <td>2020-12-29</td>\n",
       "    </tr>\n",
       "    <tr>\n",
       "      <th>2</th>\n",
       "      <td>3</td>\n",
       "      <td>Agra</td>\n",
       "      <td>Achnera</td>\n",
       "      <td>Potato</td>\n",
       "      <td>Desi</td>\n",
       "      <td>FAQ</td>\n",
       "      <td>850</td>\n",
       "      <td>950</td>\n",
       "      <td>900</td>\n",
       "      <td>2020-12-28</td>\n",
       "    </tr>\n",
       "    <tr>\n",
       "      <th>3</th>\n",
       "      <td>4</td>\n",
       "      <td>Agra</td>\n",
       "      <td>Achnera</td>\n",
       "      <td>Potato</td>\n",
       "      <td>Desi</td>\n",
       "      <td>FAQ</td>\n",
       "      <td>800</td>\n",
       "      <td>900</td>\n",
       "      <td>850</td>\n",
       "      <td>2020-12-27</td>\n",
       "    </tr>\n",
       "    <tr>\n",
       "      <th>4</th>\n",
       "      <td>5</td>\n",
       "      <td>Agra</td>\n",
       "      <td>Achnera</td>\n",
       "      <td>Potato</td>\n",
       "      <td>Desi</td>\n",
       "      <td>FAQ</td>\n",
       "      <td>800</td>\n",
       "      <td>900</td>\n",
       "      <td>850</td>\n",
       "      <td>2020-12-26</td>\n",
       "    </tr>\n",
       "  </tbody>\n",
       "</table>\n",
       "</div>"
      ],
      "text/plain": [
       "   Sl no. District Name Market Name Commodity Variety Grade  \\\n",
       "0       1          Agra     Achnera    Potato    Desi   FAQ   \n",
       "1       2          Agra     Achnera    Potato    Desi   FAQ   \n",
       "2       3          Agra     Achnera    Potato    Desi   FAQ   \n",
       "3       4          Agra     Achnera    Potato    Desi   FAQ   \n",
       "4       5          Agra     Achnera    Potato    Desi   FAQ   \n",
       "\n",
       "   Min Price (Rs./Quintal)  Max Price (Rs./Quintal)  \\\n",
       "0                      900                     1000   \n",
       "1                      800                      900   \n",
       "2                      850                      950   \n",
       "3                      800                      900   \n",
       "4                      800                      900   \n",
       "\n",
       "   Modal Price (Rs./Quintal) Price Date  \n",
       "0                        950 2020-12-30  \n",
       "1                        850 2020-12-29  \n",
       "2                        900 2020-12-28  \n",
       "3                        850 2020-12-27  \n",
       "4                        850 2020-12-26  "
      ]
     },
     "execution_count": 3,
     "metadata": {},
     "output_type": "execute_result"
    }
   ],
   "source": [
    "data.head()"
   ]
  },
  {
   "cell_type": "code",
   "execution_count": 4,
   "metadata": {},
   "outputs": [
    {
     "data": {
      "text/html": [
       "<div>\n",
       "<style scoped>\n",
       "    .dataframe tbody tr th:only-of-type {\n",
       "        vertical-align: middle;\n",
       "    }\n",
       "\n",
       "    .dataframe tbody tr th {\n",
       "        vertical-align: top;\n",
       "    }\n",
       "\n",
       "    .dataframe thead th {\n",
       "        text-align: right;\n",
       "    }\n",
       "</style>\n",
       "<table border=\"1\" class=\"dataframe\">\n",
       "  <thead>\n",
       "    <tr style=\"text-align: right;\">\n",
       "      <th></th>\n",
       "      <th>Sl no.</th>\n",
       "      <th>District Name</th>\n",
       "      <th>Market Name</th>\n",
       "      <th>Commodity</th>\n",
       "      <th>Variety</th>\n",
       "      <th>Grade</th>\n",
       "      <th>Min Price (Rs./Quintal)</th>\n",
       "      <th>Max Price (Rs./Quintal)</th>\n",
       "      <th>Modal Price (Rs./Quintal)</th>\n",
       "      <th>Price Date</th>\n",
       "    </tr>\n",
       "  </thead>\n",
       "  <tbody>\n",
       "    <tr>\n",
       "      <th>1822</th>\n",
       "      <td>1823</td>\n",
       "      <td>Agra</td>\n",
       "      <td>Samsabad</td>\n",
       "      <td>Potato</td>\n",
       "      <td>Local</td>\n",
       "      <td>FAQ</td>\n",
       "      <td>1000</td>\n",
       "      <td>1200</td>\n",
       "      <td>1100</td>\n",
       "      <td>2020-01-06</td>\n",
       "    </tr>\n",
       "    <tr>\n",
       "      <th>1823</th>\n",
       "      <td>1824</td>\n",
       "      <td>Agra</td>\n",
       "      <td>Samsabad</td>\n",
       "      <td>Potato</td>\n",
       "      <td>Local</td>\n",
       "      <td>FAQ</td>\n",
       "      <td>1000</td>\n",
       "      <td>1200</td>\n",
       "      <td>1100</td>\n",
       "      <td>2020-01-05</td>\n",
       "    </tr>\n",
       "    <tr>\n",
       "      <th>1824</th>\n",
       "      <td>1825</td>\n",
       "      <td>Agra</td>\n",
       "      <td>Samsabad</td>\n",
       "      <td>Potato</td>\n",
       "      <td>Local</td>\n",
       "      <td>FAQ</td>\n",
       "      <td>1100</td>\n",
       "      <td>1300</td>\n",
       "      <td>1200</td>\n",
       "      <td>2020-01-04</td>\n",
       "    </tr>\n",
       "    <tr>\n",
       "      <th>1825</th>\n",
       "      <td>1826</td>\n",
       "      <td>Agra</td>\n",
       "      <td>Samsabad</td>\n",
       "      <td>Potato</td>\n",
       "      <td>Local</td>\n",
       "      <td>FAQ</td>\n",
       "      <td>1100</td>\n",
       "      <td>1300</td>\n",
       "      <td>1200</td>\n",
       "      <td>2020-01-02</td>\n",
       "    </tr>\n",
       "    <tr>\n",
       "      <th>1826</th>\n",
       "      <td>1827</td>\n",
       "      <td>Agra</td>\n",
       "      <td>Samsabad</td>\n",
       "      <td>Potato</td>\n",
       "      <td>Local</td>\n",
       "      <td>FAQ</td>\n",
       "      <td>1100</td>\n",
       "      <td>1300</td>\n",
       "      <td>1200</td>\n",
       "      <td>2020-01-01</td>\n",
       "    </tr>\n",
       "  </tbody>\n",
       "</table>\n",
       "</div>"
      ],
      "text/plain": [
       "      Sl no. District Name Market Name Commodity Variety Grade  \\\n",
       "1822    1823          Agra    Samsabad    Potato   Local   FAQ   \n",
       "1823    1824          Agra    Samsabad    Potato   Local   FAQ   \n",
       "1824    1825          Agra    Samsabad    Potato   Local   FAQ   \n",
       "1825    1826          Agra    Samsabad    Potato   Local   FAQ   \n",
       "1826    1827          Agra    Samsabad    Potato   Local   FAQ   \n",
       "\n",
       "      Min Price (Rs./Quintal)  Max Price (Rs./Quintal)  \\\n",
       "1822                     1000                     1200   \n",
       "1823                     1000                     1200   \n",
       "1824                     1100                     1300   \n",
       "1825                     1100                     1300   \n",
       "1826                     1100                     1300   \n",
       "\n",
       "      Modal Price (Rs./Quintal) Price Date  \n",
       "1822                       1100 2020-01-06  \n",
       "1823                       1100 2020-01-05  \n",
       "1824                       1200 2020-01-04  \n",
       "1825                       1200 2020-01-02  \n",
       "1826                       1200 2020-01-01  "
      ]
     },
     "execution_count": 4,
     "metadata": {},
     "output_type": "execute_result"
    }
   ],
   "source": [
    "data.tail()"
   ]
  },
  {
   "cell_type": "code",
   "execution_count": 5,
   "metadata": {},
   "outputs": [
    {
     "data": {
      "text/plain": [
       "array(['Achnera', 'Agra', 'Fatehabad', 'Fatehpur Sikri', 'Jagnair',\n",
       "       'Jarar', 'Khairagarh', 'Samsabad'], dtype=object)"
      ]
     },
     "execution_count": 5,
     "metadata": {},
     "output_type": "execute_result"
    }
   ],
   "source": [
    "data['Market Name'].unique()"
   ]
  },
  {
   "cell_type": "code",
   "execution_count": 6,
   "metadata": {},
   "outputs": [
    {
     "data": {
      "text/plain": [
       "Achnera           306\n",
       "Fatehpur Sikri    290\n",
       "Agra              285\n",
       "Fatehabad         258\n",
       "Khairagarh        187\n",
       "Jagnair           187\n",
       "Samsabad          168\n",
       "Jarar             146\n",
       "Name: Market Name, dtype: int64"
      ]
     },
     "execution_count": 6,
     "metadata": {},
     "output_type": "execute_result"
    }
   ],
   "source": [
    "data['Market Name'].value_counts()"
   ]
  },
  {
   "cell_type": "code",
   "execution_count": 7,
   "metadata": {},
   "outputs": [
    {
     "data": {
      "text/plain": [
       "array(['FAQ'], dtype=object)"
      ]
     },
     "execution_count": 7,
     "metadata": {},
     "output_type": "execute_result"
    }
   ],
   "source": [
    "data['Grade'].unique()"
   ]
  },
  {
   "cell_type": "code",
   "execution_count": 8,
   "metadata": {},
   "outputs": [
    {
     "data": {
      "text/plain": [
       "array(['Potato'], dtype=object)"
      ]
     },
     "execution_count": 8,
     "metadata": {},
     "output_type": "execute_result"
    }
   ],
   "source": [
    "data['Commodity'].unique()"
   ]
  },
  {
   "cell_type": "code",
   "execution_count": 9,
   "metadata": {},
   "outputs": [
    {
     "data": {
      "text/plain": [
       "array(['Desi', 'Potato', 'Local', 'Other'], dtype=object)"
      ]
     },
     "execution_count": 9,
     "metadata": {},
     "output_type": "execute_result"
    }
   ],
   "source": [
    "data['Variety'].unique()"
   ]
  },
  {
   "cell_type": "markdown",
   "metadata": {},
   "source": [
    "# Identify major markets for the district “Agra” and plot price patterns for each of them."
   ]
  },
  {
   "cell_type": "code",
   "execution_count": 10,
   "metadata": {},
   "outputs": [
    {
     "data": {
      "text/plain": [
       "<matplotlib.axes._subplots.AxesSubplot at 0x23213edba08>"
      ]
     },
     "execution_count": 10,
     "metadata": {},
     "output_type": "execute_result"
    },
    {
     "data": {
      "image/png": "[encoded data removed]",
      "text/plain": [
       "<Figure size 432x288 with 1 Axes>"
      ]
     },
     "metadata": {
      "needs_background": "light"
     },
     "output_type": "display_data"
    },
    {
     "data": {
      "image/png": "[encoded data removed]",
      "text/plain": [
       "<Figure size 432x288 with 1 Axes>"
      ]
     },
     "metadata": {
      "needs_background": "light"
     },
     "output_type": "display_data"
    },
    {
     "data": {
      "image/png": "[encoded data removed]",
      "text/plain": [
       "<Figure size 432x288 with 1 Axes>"
      ]
     },
     "metadata": {
      "needs_background": "light"
     },
     "output_type": "display_data"
    },
    {
     "data": {
      "image/png": "[encoded data removed]",
      "text/plain": [
       "<Figure size 864x576 with 1 Axes>"
      ]
     },
     "metadata": {
      "needs_background": "light"
     },
     "output_type": "display_data"
    }
   ],
   "source": [
    "df1 = data[data['Market Name']=='Achnera']\n",
    "# plt.figure(figsize=(10,5))\n",
    "df1.plot(x='Market Name',y=['Min Price (Rs./Quintal)','Max Price (Rs./Quintal)','Modal Price (Rs./Quintal)'],kind='bar')\n",
    "df1.plot(x='Market Name',y=['Min Price (Rs./Quintal)','Max Price (Rs./Quintal)','Modal Price (Rs./Quintal)'])\n",
    "df1.plot(x='Market Name',y='Modal Price (Rs./Quintal)')\n",
    "plt.figure(figsize=(12,8))\n",
    "sns.scatterplot(x='Market Name',y='Modal Price (Rs./Quintal)',data=df1)\n"
   ]
  },
  {
   "cell_type": "code",
   "execution_count": 11,
   "metadata": {},
   "outputs": [
    {
     "data": {
      "text/plain": [
       "<matplotlib.axes._subplots.AxesSubplot at 0x23214137f48>"
      ]
     },
     "execution_count": 11,
     "metadata": {},
     "output_type": "execute_result"
    },
    {
     "data": {
      "image/png": "[encoded data removed]",
      "text/plain": [
       "<Figure size 432x288 with 1 Axes>"
      ]
     },
     "metadata": {
      "needs_background": "light"
     },
     "output_type": "display_data"
    },
    {
     "data": {
      "image/png": "[encoded data removed]",
      "text/plain": [
       "<Figure size 432x288 with 1 Axes>"
      ]
     },
     "metadata": {
      "needs_background": "light"
     },
     "output_type": "display_data"
    },
    {
     "data": {
      "image/png": "[encoded data removed]",
      "text/plain": [
       "<Figure size 432x288 with 1 Axes>"
      ]
     },
     "metadata": {
      "needs_background": "light"
     },
     "output_type": "display_data"
    },
    {
     "data": {
      "image/png": "[encoded data removed]",
      "text/plain": [
       "<Figure size 864x576 with 1 Axes>"
      ]
     },
     "metadata": {
      "needs_background": "light"
     },
     "output_type": "display_data"
    }
   ],
   "source": [
    "df1 = data[data['Market Name']=='Fatehpur Sikri']\n",
    "# plt.figure(figsize=(10,5))\n",
    "df1.plot(x='Market Name',y=['Min Price (Rs./Quintal)','Max Price (Rs./Quintal)','Modal Price (Rs./Quintal)'],kind='bar')\n",
    "df1.plot(x='Market Name',y=['Min Price (Rs./Quintal)','Max Price (Rs./Quintal)','Modal Price (Rs./Quintal)'])\n",
    "df1.plot(x='Market Name',y='Modal Price (Rs./Quintal)')\n",
    "plt.figure(figsize=(12,8))\n",
    "sns.scatterplot(x='Market Name',y='Modal Price (Rs./Quintal)',data=df1)\n"
   ]
  },
  {
   "cell_type": "code",
   "execution_count": 12,
   "metadata": {},
   "outputs": [
    {
     "data": {
      "text/html": [
       "<div>\n",
       "<style scoped>\n",
       "    .dataframe tbody tr th:only-of-type {\n",
       "        vertical-align: middle;\n",
       "    }\n",
       "\n",
       "    .dataframe tbody tr th {\n",
       "        vertical-align: top;\n",
       "    }\n",
       "\n",
       "    .dataframe thead th {\n",
       "        text-align: right;\n",
       "    }\n",
       "</style>\n",
       "<table border=\"1\" class=\"dataframe\">\n",
       "  <thead>\n",
       "    <tr style=\"text-align: right;\">\n",
       "      <th></th>\n",
       "      <th>Sl no.</th>\n",
       "      <th>District Name</th>\n",
       "      <th>Market Name</th>\n",
       "      <th>Commodity</th>\n",
       "      <th>Variety</th>\n",
       "      <th>Grade</th>\n",
       "      <th>Min Price (Rs./Quintal)</th>\n",
       "      <th>Max Price (Rs./Quintal)</th>\n",
       "      <th>Modal Price (Rs./Quintal)</th>\n",
       "      <th>Price Date</th>\n",
       "    </tr>\n",
       "  </thead>\n",
       "  <tbody>\n",
       "    <tr>\n",
       "      <th>0</th>\n",
       "      <td>1</td>\n",
       "      <td>Agra</td>\n",
       "      <td>Achnera</td>\n",
       "      <td>Potato</td>\n",
       "      <td>Desi</td>\n",
       "      <td>FAQ</td>\n",
       "      <td>900</td>\n",
       "      <td>1000</td>\n",
       "      <td>950</td>\n",
       "      <td>2020-12-30</td>\n",
       "    </tr>\n",
       "    <tr>\n",
       "      <th>1</th>\n",
       "      <td>2</td>\n",
       "      <td>Agra</td>\n",
       "      <td>Achnera</td>\n",
       "      <td>Potato</td>\n",
       "      <td>Desi</td>\n",
       "      <td>FAQ</td>\n",
       "      <td>800</td>\n",
       "      <td>900</td>\n",
       "      <td>850</td>\n",
       "      <td>2020-12-29</td>\n",
       "    </tr>\n",
       "    <tr>\n",
       "      <th>2</th>\n",
       "      <td>3</td>\n",
       "      <td>Agra</td>\n",
       "      <td>Achnera</td>\n",
       "      <td>Potato</td>\n",
       "      <td>Desi</td>\n",
       "      <td>FAQ</td>\n",
       "      <td>850</td>\n",
       "      <td>950</td>\n",
       "      <td>900</td>\n",
       "      <td>2020-12-28</td>\n",
       "    </tr>\n",
       "    <tr>\n",
       "      <th>3</th>\n",
       "      <td>4</td>\n",
       "      <td>Agra</td>\n",
       "      <td>Achnera</td>\n",
       "      <td>Potato</td>\n",
       "      <td>Desi</td>\n",
       "      <td>FAQ</td>\n",
       "      <td>800</td>\n",
       "      <td>900</td>\n",
       "      <td>850</td>\n",
       "      <td>2020-12-27</td>\n",
       "    </tr>\n",
       "    <tr>\n",
       "      <th>4</th>\n",
       "      <td>5</td>\n",
       "      <td>Agra</td>\n",
       "      <td>Achnera</td>\n",
       "      <td>Potato</td>\n",
       "      <td>Desi</td>\n",
       "      <td>FAQ</td>\n",
       "      <td>800</td>\n",
       "      <td>900</td>\n",
       "      <td>850</td>\n",
       "      <td>2020-12-26</td>\n",
       "    </tr>\n",
       "  </tbody>\n",
       "</table>\n",
       "</div>"
      ],
      "text/plain": [
       "   Sl no. District Name Market Name Commodity Variety Grade  \\\n",
       "0       1          Agra     Achnera    Potato    Desi   FAQ   \n",
       "1       2          Agra     Achnera    Potato    Desi   FAQ   \n",
       "2       3          Agra     Achnera    Potato    Desi   FAQ   \n",
       "3       4          Agra     Achnera    Potato    Desi   FAQ   \n",
       "4       5          Agra     Achnera    Potato    Desi   FAQ   \n",
       "\n",
       "   Min Price (Rs./Quintal)  Max Price (Rs./Quintal)  \\\n",
       "0                      900                     1000   \n",
       "1                      800                      900   \n",
       "2                      850                      950   \n",
       "3                      800                      900   \n",
       "4                      800                      900   \n",
       "\n",
       "   Modal Price (Rs./Quintal) Price Date  \n",
       "0                        950 2020-12-30  \n",
       "1                        850 2020-12-29  \n",
       "2                        900 2020-12-28  \n",
       "3                        850 2020-12-27  \n",
       "4                        850 2020-12-26  "
      ]
     },
     "execution_count": 12,
     "metadata": {},
     "output_type": "execute_result"
    }
   ],
   "source": [
    "data.head()"
   ]
  },
  {
   "cell_type": "markdown",
   "metadata": {},
   "source": [
    "# Data Cleaning"
   ]
  },
  {
   "cell_type": "code",
   "execution_count": 13,
   "metadata": {},
   "outputs": [],
   "source": [
    "data.drop('District Name',inplace=True,axis=1)"
   ]
  },
  {
   "cell_type": "code",
   "execution_count": 14,
   "metadata": {},
   "outputs": [],
   "source": [
    "data.drop('Grade',inplace=True,axis=1)"
   ]
  },
  {
   "cell_type": "code",
   "execution_count": 15,
   "metadata": {},
   "outputs": [],
   "source": [
    "data.drop('Commodity',inplace=True,axis=1)"
   ]
  },
  {
   "cell_type": "code",
   "execution_count": 16,
   "metadata": {},
   "outputs": [],
   "source": [
    "data.drop('Sl no.',inplace=True,axis=1)"
   ]
  },
  {
   "cell_type": "code",
   "execution_count": 17,
   "metadata": {},
   "outputs": [],
   "source": [
    "data.drop('Price Date',inplace=True,axis=1)"
   ]
  },
  {
   "cell_type": "markdown",
   "metadata": {},
   "source": [
    "# The features of the data are Market Name, Variety, Min Price (Rs./Quintal),\tMax Price (Rs./Quintal)  and target variable is  Modal Price (Rs./Quintal)"
   ]
  },
  {
   "cell_type": "code",
   "execution_count": 18,
   "metadata": {},
   "outputs": [
    {
     "data": {
      "text/html": [
       "<div>\n",
       "<style scoped>\n",
       "    .dataframe tbody tr th:only-of-type {\n",
       "        vertical-align: middle;\n",
       "    }\n",
       "\n",
       "    .dataframe tbody tr th {\n",
       "        vertical-align: top;\n",
       "    }\n",
       "\n",
       "    .dataframe thead th {\n",
       "        text-align: right;\n",
       "    }\n",
       "</style>\n",
       "<table border=\"1\" class=\"dataframe\">\n",
       "  <thead>\n",
       "    <tr style=\"text-align: right;\">\n",
       "      <th></th>\n",
       "      <th>Market Name</th>\n",
       "      <th>Variety</th>\n",
       "      <th>Min Price (Rs./Quintal)</th>\n",
       "      <th>Max Price (Rs./Quintal)</th>\n",
       "      <th>Modal Price (Rs./Quintal)</th>\n",
       "    </tr>\n",
       "  </thead>\n",
       "  <tbody>\n",
       "    <tr>\n",
       "      <th>0</th>\n",
       "      <td>Achnera</td>\n",
       "      <td>Desi</td>\n",
       "      <td>900</td>\n",
       "      <td>1000</td>\n",
       "      <td>950</td>\n",
       "    </tr>\n",
       "    <tr>\n",
       "      <th>1</th>\n",
       "      <td>Achnera</td>\n",
       "      <td>Desi</td>\n",
       "      <td>800</td>\n",
       "      <td>900</td>\n",
       "      <td>850</td>\n",
       "    </tr>\n",
       "    <tr>\n",
       "      <th>2</th>\n",
       "      <td>Achnera</td>\n",
       "      <td>Desi</td>\n",
       "      <td>850</td>\n",
       "      <td>950</td>\n",
       "      <td>900</td>\n",
       "    </tr>\n",
       "    <tr>\n",
       "      <th>3</th>\n",
       "      <td>Achnera</td>\n",
       "      <td>Desi</td>\n",
       "      <td>800</td>\n",
       "      <td>900</td>\n",
       "      <td>850</td>\n",
       "    </tr>\n",
       "    <tr>\n",
       "      <th>4</th>\n",
       "      <td>Achnera</td>\n",
       "      <td>Desi</td>\n",
       "      <td>800</td>\n",
       "      <td>900</td>\n",
       "      <td>850</td>\n",
       "    </tr>\n",
       "  </tbody>\n",
       "</table>\n",
       "</div>"
      ],
      "text/plain": [
       "  Market Name Variety  Min Price (Rs./Quintal)  Max Price (Rs./Quintal)  \\\n",
       "0     Achnera    Desi                      900                     1000   \n",
       "1     Achnera    Desi                      800                      900   \n",
       "2     Achnera    Desi                      850                      950   \n",
       "3     Achnera    Desi                      800                      900   \n",
       "4     Achnera    Desi                      800                      900   \n",
       "\n",
       "   Modal Price (Rs./Quintal)  \n",
       "0                        950  \n",
       "1                        850  \n",
       "2                        900  \n",
       "3                        850  \n",
       "4                        850  "
      ]
     },
     "execution_count": 18,
     "metadata": {},
     "output_type": "execute_result"
    }
   ],
   "source": [
    "data.head()"
   ]
  },
  {
   "cell_type": "code",
   "execution_count": 19,
   "metadata": {},
   "outputs": [
    {
     "data": {
      "text/plain": [
       "Market Name                  0\n",
       "Variety                      0\n",
       "Min Price (Rs./Quintal)      0\n",
       "Max Price (Rs./Quintal)      0\n",
       "Modal Price (Rs./Quintal)    0\n",
       "dtype: int64"
      ]
     },
     "execution_count": 19,
     "metadata": {},
     "output_type": "execute_result"
    }
   ],
   "source": [
    "data.isnull().sum()"
   ]
  },
  {
   "cell_type": "code",
   "execution_count": 20,
   "metadata": {},
   "outputs": [],
   "source": [
    "data1 = data.copy()"
   ]
  },
  {
   "cell_type": "markdown",
   "metadata": {},
   "source": [
    "# Data Preprocessing"
   ]
  },
  {
   "cell_type": "code",
   "execution_count": 21,
   "metadata": {},
   "outputs": [],
   "source": [
    "from sklearn.preprocessing import LabelEncoder\n",
    "for column in data1.columns[0:len(data1.columns)] :\n",
    "    le = LabelEncoder()\n",
    "    data1[column] = le.fit_transform(data1[column])"
   ]
  },
  {
   "cell_type": "markdown",
   "metadata": {},
   "source": [
    "# Label Encoder Purpose -> In machine learning, we usually deal with datasets that contain multiple labels in one or more than one column. These labels can be in the form of words or numbers. To make the data understandable or in human-readable form, the training data is often labeled in words. \n",
    "# Label Encoding refers to converting the labels into a numeric form so as to convert them into the machine-readable form. "
   ]
  },
  {
   "cell_type": "code",
   "execution_count": 22,
   "metadata": {},
   "outputs": [
    {
     "data": {
      "text/html": [
       "<div>\n",
       "<style scoped>\n",
       "    .dataframe tbody tr th:only-of-type {\n",
       "        vertical-align: middle;\n",
       "    }\n",
       "\n",
       "    .dataframe tbody tr th {\n",
       "        vertical-align: top;\n",
       "    }\n",
       "\n",
       "    .dataframe thead th {\n",
       "        text-align: right;\n",
       "    }\n",
       "</style>\n",
       "<table border=\"1\" class=\"dataframe\">\n",
       "  <thead>\n",
       "    <tr style=\"text-align: right;\">\n",
       "      <th></th>\n",
       "      <th>Market Name</th>\n",
       "      <th>Variety</th>\n",
       "      <th>Min Price (Rs./Quintal)</th>\n",
       "      <th>Max Price (Rs./Quintal)</th>\n",
       "      <th>Modal Price (Rs./Quintal)</th>\n",
       "    </tr>\n",
       "  </thead>\n",
       "  <tbody>\n",
       "    <tr>\n",
       "      <th>0</th>\n",
       "      <td>0</td>\n",
       "      <td>0</td>\n",
       "      <td>22</td>\n",
       "      <td>25</td>\n",
       "      <td>30</td>\n",
       "    </tr>\n",
       "    <tr>\n",
       "      <th>1</th>\n",
       "      <td>0</td>\n",
       "      <td>0</td>\n",
       "      <td>13</td>\n",
       "      <td>17</td>\n",
       "      <td>16</td>\n",
       "    </tr>\n",
       "    <tr>\n",
       "      <th>2</th>\n",
       "      <td>0</td>\n",
       "      <td>0</td>\n",
       "      <td>18</td>\n",
       "      <td>21</td>\n",
       "      <td>24</td>\n",
       "    </tr>\n",
       "    <tr>\n",
       "      <th>3</th>\n",
       "      <td>0</td>\n",
       "      <td>0</td>\n",
       "      <td>13</td>\n",
       "      <td>17</td>\n",
       "      <td>16</td>\n",
       "    </tr>\n",
       "    <tr>\n",
       "      <th>4</th>\n",
       "      <td>0</td>\n",
       "      <td>0</td>\n",
       "      <td>13</td>\n",
       "      <td>17</td>\n",
       "      <td>16</td>\n",
       "    </tr>\n",
       "    <tr>\n",
       "      <th>5</th>\n",
       "      <td>0</td>\n",
       "      <td>0</td>\n",
       "      <td>13</td>\n",
       "      <td>17</td>\n",
       "      <td>16</td>\n",
       "    </tr>\n",
       "    <tr>\n",
       "      <th>6</th>\n",
       "      <td>0</td>\n",
       "      <td>0</td>\n",
       "      <td>26</td>\n",
       "      <td>29</td>\n",
       "      <td>37</td>\n",
       "    </tr>\n",
       "    <tr>\n",
       "      <th>7</th>\n",
       "      <td>0</td>\n",
       "      <td>0</td>\n",
       "      <td>15</td>\n",
       "      <td>19</td>\n",
       "      <td>20</td>\n",
       "    </tr>\n",
       "    <tr>\n",
       "      <th>8</th>\n",
       "      <td>0</td>\n",
       "      <td>0</td>\n",
       "      <td>13</td>\n",
       "      <td>17</td>\n",
       "      <td>16</td>\n",
       "    </tr>\n",
       "    <tr>\n",
       "      <th>9</th>\n",
       "      <td>0</td>\n",
       "      <td>0</td>\n",
       "      <td>13</td>\n",
       "      <td>17</td>\n",
       "      <td>16</td>\n",
       "    </tr>\n",
       "  </tbody>\n",
       "</table>\n",
       "</div>"
      ],
      "text/plain": [
       "   Market Name  Variety  Min Price (Rs./Quintal)  Max Price (Rs./Quintal)  \\\n",
       "0            0        0                       22                       25   \n",
       "1            0        0                       13                       17   \n",
       "2            0        0                       18                       21   \n",
       "3            0        0                       13                       17   \n",
       "4            0        0                       13                       17   \n",
       "5            0        0                       13                       17   \n",
       "6            0        0                       26                       29   \n",
       "7            0        0                       15                       19   \n",
       "8            0        0                       13                       17   \n",
       "9            0        0                       13                       17   \n",
       "\n",
       "   Modal Price (Rs./Quintal)  \n",
       "0                         30  \n",
       "1                         16  \n",
       "2                         24  \n",
       "3                         16  \n",
       "4                         16  \n",
       "5                         16  \n",
       "6                         37  \n",
       "7                         20  \n",
       "8                         16  \n",
       "9                         16  "
      ]
     },
     "execution_count": 22,
     "metadata": {},
     "output_type": "execute_result"
    }
   ],
   "source": [
    "data1.head(10)"
   ]
  },
  {
   "cell_type": "code",
   "execution_count": 23,
   "metadata": {},
   "outputs": [
    {
     "data": {
      "text/plain": [
       "array([0, 1, 2, 3, 4, 5, 6, 7])"
      ]
     },
     "execution_count": 23,
     "metadata": {},
     "output_type": "execute_result"
    }
   ],
   "source": [
    "data1['Market Name'].unique()"
   ]
  },
  {
   "cell_type": "code",
   "execution_count": 24,
   "metadata": {},
   "outputs": [
    {
     "data": {
      "text/plain": [
       "array(['Achnera', 'Agra', 'Fatehabad', 'Fatehpur Sikri', 'Jagnair',\n",
       "       'Jarar', 'Khairagarh', 'Samsabad'], dtype=object)"
      ]
     },
     "execution_count": 24,
     "metadata": {},
     "output_type": "execute_result"
    }
   ],
   "source": [
    "le1=LabelEncoder()\n",
    "le1.fit_transform(data['Market Name'])\n",
    "le1.inverse_transform(data1['Market Name'].unique())"
   ]
  },
  {
   "cell_type": "markdown",
   "metadata": {},
   "source": [
    "# Label Encoder can inverse transform also so that you can know that what are the values to be entered for prediction as the label for that value is present already"
   ]
  },
  {
   "cell_type": "code",
   "execution_count": 25,
   "metadata": {},
   "outputs": [
    {
     "data": {
      "text/plain": [
       "array([0, 3, 1, 2])"
      ]
     },
     "execution_count": 25,
     "metadata": {},
     "output_type": "execute_result"
    }
   ],
   "source": [
    "data1['Variety'].unique()"
   ]
  },
  {
   "cell_type": "code",
   "execution_count": 26,
   "metadata": {},
   "outputs": [
    {
     "data": {
      "text/plain": [
       "array(['Desi', 'Potato', 'Local', 'Other'], dtype=object)"
      ]
     },
     "execution_count": 26,
     "metadata": {},
     "output_type": "execute_result"
    }
   ],
   "source": [
    "le2=LabelEncoder()\n",
    "le2.fit_transform(data['Variety'])\n",
    "le2.inverse_transform(data1['Variety'].unique())"
   ]
  },
  {
   "cell_type": "markdown",
   "metadata": {},
   "source": [
    "# Check for any null values present or not"
   ]
  },
  {
   "cell_type": "code",
   "execution_count": 27,
   "metadata": {},
   "outputs": [
    {
     "data": {
      "text/plain": [
       "Market Name                  0\n",
       "Variety                      0\n",
       "Min Price (Rs./Quintal)      0\n",
       "Max Price (Rs./Quintal)      0\n",
       "Modal Price (Rs./Quintal)    0\n",
       "dtype: int64"
      ]
     },
     "execution_count": 27,
     "metadata": {},
     "output_type": "execute_result"
    }
   ],
   "source": [
    "data1.isnull().sum()"
   ]
  },
  {
   "cell_type": "markdown",
   "metadata": {},
   "source": [
    "# Train Test Split"
   ]
  },
  {
   "cell_type": "code",
   "execution_count": 28,
   "metadata": {},
   "outputs": [],
   "source": [
    "from sklearn.model_selection import train_test_split\n",
    "\n",
    "\n",
    "X = data1.drop(columns='Modal Price (Rs./Quintal)', axis=1)\n",
    "Y = data1['Modal Price (Rs./Quintal)']\n",
    "\n",
    "x_train, x_test, y_train, y_test = train_test_split(X, Y, test_size=0.4, random_state=101)"
   ]
  },
  {
   "cell_type": "markdown",
   "metadata": {},
   "source": [
    "# I am first testing with linear regression because our prediction will be different values not only binary classification problem like 0 or 1."
   ]
  },
  {
   "cell_type": "code",
   "execution_count": 29,
   "metadata": {},
   "outputs": [],
   "source": [
    "from sklearn.linear_model import LinearRegression"
   ]
  },
  {
   "cell_type": "code",
   "execution_count": 30,
   "metadata": {},
   "outputs": [],
   "source": [
    "model1 = LinearRegression()"
   ]
  },
  {
   "cell_type": "code",
   "execution_count": 31,
   "metadata": {},
   "outputs": [
    {
     "data": {
      "text/plain": [
       "LinearRegression(copy_X=True, fit_intercept=True, n_jobs=None, normalize=False)"
      ]
     },
     "execution_count": 31,
     "metadata": {},
     "output_type": "execute_result"
    }
   ],
   "source": [
    "model1.fit(x_train,y_train)"
   ]
  },
  {
   "cell_type": "code",
   "execution_count": 32,
   "metadata": {},
   "outputs": [
    {
     "data": {
      "text/plain": [
       "-5.526065145643329"
      ]
     },
     "execution_count": 32,
     "metadata": {},
     "output_type": "execute_result"
    }
   ],
   "source": [
    "model1.intercept_"
   ]
  },
  {
   "cell_type": "code",
   "execution_count": 33,
   "metadata": {},
   "outputs": [
    {
     "data": {
      "text/plain": [
       "array([-0.56948516,  7.95633042,  1.44073654,  0.4540512 ])"
      ]
     },
     "execution_count": 33,
     "metadata": {},
     "output_type": "execute_result"
    }
   ],
   "source": [
    "model1.coef_"
   ]
  },
  {
   "cell_type": "markdown",
   "metadata": {},
   "source": [
    "# Scatter plot for Linear Regression to check the regression line"
   ]
  },
  {
   "cell_type": "code",
   "execution_count": 34,
   "metadata": {},
   "outputs": [],
   "source": [
    "from sklearn.metrics import accuracy_score\n",
    "x_test_prediction = model1.predict(x_test)\n",
    "# testing_data_accuracy = model1.score(x_test_prediction, y_test)"
   ]
  },
  {
   "cell_type": "code",
   "execution_count": 35,
   "metadata": {},
   "outputs": [
    {
     "data": {
      "text/plain": [
       "<matplotlib.collections.PathCollection at 0x2321387f788>"
      ]
     },
     "execution_count": 35,
     "metadata": {},
     "output_type": "execute_result"
    },
    {
     "data": {
      "image/png": "[encoded data removed]",
      "text/plain": [
       "<Figure size 432x288 with 1 Axes>"
      ]
     },
     "metadata": {
      "needs_background": "light"
     },
     "output_type": "display_data"
    }
   ],
   "source": [
    "plt.scatter(y_test,x_test_prediction)"
   ]
  },
  {
   "cell_type": "markdown",
   "metadata": {},
   "source": [
    "# Loss function for Linear Regression"
   ]
  },
  {
   "cell_type": "code",
   "execution_count": 36,
   "metadata": {},
   "outputs": [],
   "source": [
    "from sklearn import metrics"
   ]
  },
  {
   "cell_type": "code",
   "execution_count": 37,
   "metadata": {},
   "outputs": [
    {
     "name": "stdout",
     "output_type": "stream",
     "text": [
      "MAE: 5.493539638718361\n",
      "MSE: 426.788533616083\n",
      "RMSE: 20.65886089831874\n"
     ]
    }
   ],
   "source": [
    "print('MAE:', metrics.mean_absolute_error(y_test, x_test_prediction))\n",
    "print('MSE:', metrics.mean_squared_error(y_test, x_test_prediction))\n",
    "print('RMSE:', np.sqrt(metrics.mean_squared_error(y_test, x_test_prediction)))"
   ]
  },
  {
   "cell_type": "markdown",
   "metadata": {},
   "source": [
    "# We will try for Random Forest Classifier also"
   ]
  },
  {
   "cell_type": "code",
   "execution_count": 38,
   "metadata": {},
   "outputs": [
    {
     "data": {
      "text/plain": [
       "RandomForestClassifier(bootstrap=True, ccp_alpha=0.0, class_weight=None,\n",
       "                       criterion='gini', max_depth=None, max_features='auto',\n",
       "                       max_leaf_nodes=None, max_samples=None,\n",
       "                       min_impurity_decrease=0.0, min_impurity_split=None,\n",
       "                       min_samples_leaf=1, min_samples_split=2,\n",
       "                       min_weight_fraction_leaf=0.0, n_estimators=100,\n",
       "                       n_jobs=None, oob_score=False, random_state=None,\n",
       "                       verbose=0, warm_start=False)"
      ]
     },
     "execution_count": 38,
     "metadata": {},
     "output_type": "execute_result"
    }
   ],
   "source": [
    "from sklearn.ensemble import RandomForestClassifier\n",
    "model2 = RandomForestClassifier(n_estimators = 100)\n",
    "model2.fit(x_train,y_train)"
   ]
  },
  {
   "cell_type": "code",
   "execution_count": 39,
   "metadata": {},
   "outputs": [],
   "source": [
    "x_test_prediction2 = model2.predict(x_test)\n",
    "test_data_accuracy2 = accuracy_score(x_test_prediction2, y_test)"
   ]
  },
  {
   "cell_type": "markdown",
   "metadata": {},
   "source": [
    "# Accuracy Score for Random Forest Classifier"
   ]
  },
  {
   "cell_type": "code",
   "execution_count": 40,
   "metadata": {},
   "outputs": [
    {
     "name": "stdout",
     "output_type": "stream",
     "text": [
      "Accuracy on Test data using Random Forest Classifier :  62.243502051983576\n"
     ]
    }
   ],
   "source": [
    "print('Accuracy on Test data using Random Forest Classifier : ', test_data_accuracy2*100)"
   ]
  },
  {
   "cell_type": "markdown",
   "metadata": {},
   "source": [
    "# Training using Decision Tree Classifier "
   ]
  },
  {
   "cell_type": "code",
   "execution_count": 41,
   "metadata": {},
   "outputs": [
    {
     "data": {
      "text/plain": [
       "DecisionTreeClassifier(ccp_alpha=0.0, class_weight=None, criterion='gini',\n",
       "                       max_depth=None, max_features=None, max_leaf_nodes=None,\n",
       "                       min_impurity_decrease=0.0, min_impurity_split=None,\n",
       "                       min_samples_leaf=1, min_samples_split=2,\n",
       "                       min_weight_fraction_leaf=0.0, presort='deprecated',\n",
       "                       random_state=101, splitter='best')"
      ]
     },
     "execution_count": 41,
     "metadata": {},
     "output_type": "execute_result"
    }
   ],
   "source": [
    "from sklearn.tree import DecisionTreeClassifier\n",
    "model3 = DecisionTreeClassifier(random_state=101)\n",
    "model3.fit(x_train, y_train)"
   ]
  },
  {
   "cell_type": "code",
   "execution_count": 42,
   "metadata": {},
   "outputs": [],
   "source": [
    "x_test_prediction3 = model3.predict(x_test)\n",
    "test_data_accuracy3 = accuracy_score(x_test_prediction3, y_test)"
   ]
  },
  {
   "cell_type": "markdown",
   "metadata": {},
   "source": [
    "# Accuracy Score for Decision Tree Classifier"
   ]
  },
  {
   "cell_type": "code",
   "execution_count": 43,
   "metadata": {},
   "outputs": [
    {
     "name": "stdout",
     "output_type": "stream",
     "text": [
      "Accuracy on Test data using Decision Tree Classifier :  63.748290013679885\n"
     ]
    }
   ],
   "source": [
    "print('Accuracy on Test data using Decision Tree Classifier : ', test_data_accuracy3*100)"
   ]
  },
  {
   "cell_type": "code",
   "execution_count": 44,
   "metadata": {},
   "outputs": [
    {
     "data": {
      "text/plain": [
       "array([[ 7,  1, 22, 33],\n",
       "       [ 0,  0, 92, 93],\n",
       "       [ 7,  1, 34, 46],\n",
       "       ...,\n",
       "       [ 2,  0, 42, 46],\n",
       "       [ 6,  0, 28, 33],\n",
       "       [ 0,  0, 22, 22]], dtype=int64)"
      ]
     },
     "execution_count": 44,
     "metadata": {},
     "output_type": "execute_result"
    }
   ],
   "source": [
    "x_test.values"
   ]
  },
  {
   "cell_type": "markdown",
   "metadata": {},
   "source": [
    "# Predicting the new data using Linear Regression"
   ]
  },
  {
   "cell_type": "code",
   "execution_count": 47,
   "metadata": {},
   "outputs": [],
   "source": [
    "# Achnera = 0, Desi = 0, min price = 13 , max price= 17\n",
    "prediction = model1.predict(np.array([[0,0,13,17]]))"
   ]
  },
  {
   "cell_type": "code",
   "execution_count": 48,
   "metadata": {},
   "outputs": [
    {
     "name": "stdout",
     "output_type": "stream",
     "text": [
      "predicted rate of crop of potato is  20.922380269119362\n"
     ]
    }
   ],
   "source": [
    "print(\"predicted rate of crop of potato is \",prediction[0])"
   ]
  },
  {
   "cell_type": "code",
   "execution_count": null,
   "metadata": {},
   "outputs": [],
   "source": []
  }
 ],
 "metadata": {
  "kernelspec": {
   "display_name": "Python 3",
   "language": "python",
   "name": "python3"
  },
  "language_info": {
   "codemirror_mode": {
    "name": "ipython",
    "version": 3
   },
   "file_extension": ".py",
   "mimetype": "text/x-python",
   "name": "python",
   "nbconvert_exporter": "python",
   "pygments_lexer": "ipython3",
   "version": "3.7.6"
  }
 },
 "nbformat": 4,
 "nbformat_minor": 4
}
